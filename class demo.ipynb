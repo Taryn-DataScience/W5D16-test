{
 "cells": [
  {
   "cell_type": "code",
   "execution_count": 1,
   "id": "4b3ebef0",
   "metadata": {},
   "outputs": [],
   "source": [
    "#from pandas_profiling import ProfileReport\n",
    "import pandas as pd\n",
    "import seaborn as sns\n",
    "import numpy as np\n",
    "#import os\n",
    "#import matplotlib.pyplot as plt"
   ]
  },
  {
   "cell_type": "code",
   "execution_count": 2,
   "id": "211c255d",
   "metadata": {},
   "outputs": [],
   "source": [
    "tree_data = pd.read_csv(\"TreeCoverLoss_2001-2020_ByRegion.csv\")"
   ]
  },
  {
   "cell_type": "code",
   "execution_count": 3,
   "id": "452d8c07",
   "metadata": {},
   "outputs": [
    {
     "data": {
      "text/html": [
       "<div>\n",
       "<style scoped>\n",
       "    .dataframe tbody tr th:only-of-type {\n",
       "        vertical-align: middle;\n",
       "    }\n",
       "\n",
       "    .dataframe tbody tr th {\n",
       "        vertical-align: top;\n",
       "    }\n",
       "\n",
       "    .dataframe thead th {\n",
       "        text-align: right;\n",
       "    }\n",
       "</style>\n",
       "<table border=\"1\" class=\"dataframe\">\n",
       "  <thead>\n",
       "    <tr style=\"text-align: right;\">\n",
       "      <th></th>\n",
       "      <th>CountryCode</th>\n",
       "      <th>Year</th>\n",
       "      <th>TreeCoverLoss_ha</th>\n",
       "      <th>GrossEmissions_Co2_all_gases_Mg</th>\n",
       "    </tr>\n",
       "  </thead>\n",
       "  <tbody>\n",
       "    <tr>\n",
       "      <th>0</th>\n",
       "      <td>AFG</td>\n",
       "      <td>2001</td>\n",
       "      <td>88.092712</td>\n",
       "      <td>2.226891e+04</td>\n",
       "    </tr>\n",
       "    <tr>\n",
       "      <th>1</th>\n",
       "      <td>AGO</td>\n",
       "      <td>2001</td>\n",
       "      <td>101220.621500</td>\n",
       "      <td>3.687662e+07</td>\n",
       "    </tr>\n",
       "    <tr>\n",
       "      <th>2</th>\n",
       "      <td>AIA</td>\n",
       "      <td>2001</td>\n",
       "      <td>3.878461</td>\n",
       "      <td>6.267003e+02</td>\n",
       "    </tr>\n",
       "    <tr>\n",
       "      <th>3</th>\n",
       "      <td>ALA</td>\n",
       "      <td>2001</td>\n",
       "      <td>396.934826</td>\n",
       "      <td>7.589787e+04</td>\n",
       "    </tr>\n",
       "    <tr>\n",
       "      <th>4</th>\n",
       "      <td>ALB</td>\n",
       "      <td>2001</td>\n",
       "      <td>3729.021031</td>\n",
       "      <td>1.333223e+06</td>\n",
       "    </tr>\n",
       "  </tbody>\n",
       "</table>\n",
       "</div>"
      ],
      "text/plain": [
       "  CountryCode  Year  TreeCoverLoss_ha  GrossEmissions_Co2_all_gases_Mg\n",
       "0         AFG  2001         88.092712                     2.226891e+04\n",
       "1         AGO  2001     101220.621500                     3.687662e+07\n",
       "2         AIA  2001          3.878461                     6.267003e+02\n",
       "3         ALA  2001        396.934826                     7.589787e+04\n",
       "4         ALB  2001       3729.021031                     1.333223e+06"
      ]
     },
     "execution_count": 3,
     "metadata": {},
     "output_type": "execute_result"
    }
   ],
   "source": [
    "tree_data.head()"
   ]
  },
  {
   "cell_type": "code",
   "execution_count": 4,
   "id": "7ef6b05e",
   "metadata": {},
   "outputs": [
    {
     "data": {
      "text/plain": [
       "(3967, 4)"
      ]
     },
     "execution_count": 4,
     "metadata": {},
     "output_type": "execute_result"
    }
   ],
   "source": [
    "tree_data.shape"
   ]
  },
  {
   "cell_type": "code",
   "execution_count": 5,
   "id": "4f8742b0",
   "metadata": {},
   "outputs": [
    {
     "data": {
      "text/html": [
       "<div>\n",
       "<style scoped>\n",
       "    .dataframe tbody tr th:only-of-type {\n",
       "        vertical-align: middle;\n",
       "    }\n",
       "\n",
       "    .dataframe tbody tr th {\n",
       "        vertical-align: top;\n",
       "    }\n",
       "\n",
       "    .dataframe thead th {\n",
       "        text-align: right;\n",
       "    }\n",
       "</style>\n",
       "<table border=\"1\" class=\"dataframe\">\n",
       "  <thead>\n",
       "    <tr style=\"text-align: right;\">\n",
       "      <th></th>\n",
       "      <th>CountryCode</th>\n",
       "      <th>Year</th>\n",
       "      <th>TreeCoverLoss_ha</th>\n",
       "      <th>GrossEmissions_Co2_all_gases_Mg</th>\n",
       "    </tr>\n",
       "  </thead>\n",
       "  <tbody>\n",
       "    <tr>\n",
       "      <th>3962</th>\n",
       "      <td>XKO</td>\n",
       "      <td>2020</td>\n",
       "      <td>970.789805</td>\n",
       "      <td>5.576097e+05</td>\n",
       "    </tr>\n",
       "    <tr>\n",
       "      <th>3963</th>\n",
       "      <td>XNC</td>\n",
       "      <td>2020</td>\n",
       "      <td>6.185126</td>\n",
       "      <td>1.797582e+03</td>\n",
       "    </tr>\n",
       "    <tr>\n",
       "      <th>3964</th>\n",
       "      <td>ZAF</td>\n",
       "      <td>2020</td>\n",
       "      <td>62247.300630</td>\n",
       "      <td>4.492736e+07</td>\n",
       "    </tr>\n",
       "    <tr>\n",
       "      <th>3965</th>\n",
       "      <td>ZMB</td>\n",
       "      <td>2020</td>\n",
       "      <td>163028.437800</td>\n",
       "      <td>5.971516e+07</td>\n",
       "    </tr>\n",
       "    <tr>\n",
       "      <th>3966</th>\n",
       "      <td>ZWE</td>\n",
       "      <td>2020</td>\n",
       "      <td>6224.919002</td>\n",
       "      <td>2.842921e+06</td>\n",
       "    </tr>\n",
       "  </tbody>\n",
       "</table>\n",
       "</div>"
      ],
      "text/plain": [
       "     CountryCode  Year  TreeCoverLoss_ha  GrossEmissions_Co2_all_gases_Mg\n",
       "3962         XKO  2020        970.789805                     5.576097e+05\n",
       "3963         XNC  2020          6.185126                     1.797582e+03\n",
       "3964         ZAF  2020      62247.300630                     4.492736e+07\n",
       "3965         ZMB  2020     163028.437800                     5.971516e+07\n",
       "3966         ZWE  2020       6224.919002                     2.842921e+06"
      ]
     },
     "execution_count": 5,
     "metadata": {},
     "output_type": "execute_result"
    }
   ],
   "source": [
    "tree_data.tail()"
   ]
  },
  {
   "cell_type": "code",
   "execution_count": 9,
   "id": "29bb519e",
   "metadata": {},
   "outputs": [
    {
     "data": {
      "text/plain": [
       "array(['AFG', 'AGO', 'AIA', 'ALA', 'ALB', 'AND', 'ARG', 'ARM', 'ATG',\n",
       "       'AUS', 'AUT', 'AZE', 'BDI', 'BEL', 'BEN', 'BES', 'BFA', 'BGD',\n",
       "       'BGR', 'BHS', 'BIH', 'BLR', 'BLZ', 'BMU', 'BOL', 'BRA', 'BRB',\n",
       "       'BRN', 'BTN', 'BWA', 'CAF', 'CAN', 'CHE', 'CHL', 'CHN', 'CIV',\n",
       "       'CMR', 'COD', 'COG', 'COL', 'COM', 'CPV', 'CRI', 'CUB', 'CUW',\n",
       "       'CYM', 'CYP', 'CZE', 'DEU', 'DMA', 'DNK', 'DOM', 'DZA', 'ECU',\n",
       "       'EGY', 'ERI', 'ESP', 'EST', 'ETH', 'FIN', 'FJI', 'FRA', 'GAB',\n",
       "       'GBR', 'GEO', 'GGY', 'GHA', 'GIB', 'GIN', 'GLP', 'GMB', 'GNB',\n",
       "       'GNQ', 'GRC', 'GRD', 'GTM', 'GUF', 'GUY', 'HKG', 'HND', 'HRV',\n",
       "       'HTI', 'HUN', 'IDN', 'IMN', 'IND', 'IRL', 'IRN', 'IRQ', 'ISR',\n",
       "       'ITA', 'JAM', 'JEY', 'JOR', 'JPN', 'KAZ', 'KEN', 'KGZ', 'KHM',\n",
       "       'KNA', 'KOR', 'LAO', 'LBN', 'LBR', 'LBY', 'LCA', 'LIE', 'LKA',\n",
       "       'LSO', 'LTU', 'LUX', 'LVA', 'MAC', 'MAF', 'MAR', 'MDA', 'MDG',\n",
       "       'MDV', 'MEX', 'MKD', 'MLI', 'MLT', 'MMR', 'MNE', 'MNG', 'MOZ',\n",
       "       'MRT', 'MSR', 'MTQ', 'MUS', 'MWI', 'MYS', 'MYT', 'NAM', 'NCL',\n",
       "       'NER', 'NGA', 'NIC', 'NLD', 'NOR', 'NPL', 'NZL', 'PAK', 'PAN',\n",
       "       'PER', 'PHL', 'PLW', 'PNG', 'POL', 'PRI', 'PRK', 'PRT', 'PRY',\n",
       "       'PSE', 'REU', 'ROU', 'RUS', 'RWA', 'SDN', 'SEN', 'SGP', 'SLB',\n",
       "       'SLE', 'SLV', 'SOM', 'SRB', 'SSD', 'STP', 'SUR', 'SVK', 'SVN',\n",
       "       'SWE', 'SWZ', 'SXM', 'SYC', 'SYR', 'TCA', 'TCD', 'TGO', 'THA',\n",
       "       'TJK', 'TKM', 'TLS', 'TTO', 'TUN', 'TUR', 'TWN', 'TZA', 'UGA',\n",
       "       'UKR', 'UMI', 'URY', 'USA', 'UZB', 'VCT', 'VEN', 'VGB', 'VIR',\n",
       "       'VNM', 'VUT', 'XAD', 'XCA', 'XKO', 'XNC', 'ZAF', 'ZMB', 'ZWE',\n",
       "       'ABW', 'SMR', 'SPM', 'BLM', 'OMN', 'ATF', 'FSM'], dtype=object)"
      ]
     },
     "execution_count": 9,
     "metadata": {},
     "output_type": "execute_result"
    }
   ],
   "source": [
    "tree_data.CountryCode.unique()"
   ]
  },
  {
   "cell_type": "code",
   "execution_count": 8,
   "id": "1e7cd76e",
   "metadata": {},
   "outputs": [
    {
     "name": "stdout",
     "output_type": "stream",
     "text": [
      "<class 'pandas.core.frame.DataFrame'>\n",
      "RangeIndex: 3967 entries, 0 to 3966\n",
      "Data columns (total 4 columns):\n",
      " #   Column                           Non-Null Count  Dtype  \n",
      "---  ------                           --------------  -----  \n",
      " 0   CountryCode                      3967 non-null   object \n",
      " 1   Year                             3967 non-null   int64  \n",
      " 2   TreeCoverLoss_ha                 3967 non-null   float64\n",
      " 3   GrossEmissions_Co2_all_gases_Mg  3967 non-null   float64\n",
      "dtypes: float64(2), int64(1), object(1)\n",
      "memory usage: 124.1+ KB\n"
     ]
    }
   ],
   "source": [
    "tree_data.info()"
   ]
  },
  {
   "cell_type": "code",
   "execution_count": 10,
   "id": "2d7faa2e",
   "metadata": {},
   "outputs": [
    {
     "data": {
      "text/html": [
       "<div>\n",
       "<style scoped>\n",
       "    .dataframe tbody tr th:only-of-type {\n",
       "        vertical-align: middle;\n",
       "    }\n",
       "\n",
       "    .dataframe tbody tr th {\n",
       "        vertical-align: top;\n",
       "    }\n",
       "\n",
       "    .dataframe thead th {\n",
       "        text-align: right;\n",
       "    }\n",
       "</style>\n",
       "<table border=\"1\" class=\"dataframe\">\n",
       "  <thead>\n",
       "    <tr style=\"text-align: right;\">\n",
       "      <th></th>\n",
       "      <th>CountryCode</th>\n",
       "      <th>Year</th>\n",
       "      <th>TreeCoverLoss_ha</th>\n",
       "      <th>GrossEmissions_Co2_all_gases_Mg</th>\n",
       "    </tr>\n",
       "  </thead>\n",
       "  <tbody>\n",
       "    <tr>\n",
       "      <th>0</th>\n",
       "      <td>AFG</td>\n",
       "      <td>2001</td>\n",
       "      <td>88.092712</td>\n",
       "      <td>2.226891e+04</td>\n",
       "    </tr>\n",
       "    <tr>\n",
       "      <th>1</th>\n",
       "      <td>AGO</td>\n",
       "      <td>2001</td>\n",
       "      <td>101220.621500</td>\n",
       "      <td>3.687662e+07</td>\n",
       "    </tr>\n",
       "    <tr>\n",
       "      <th>2</th>\n",
       "      <td>AIA</td>\n",
       "      <td>2001</td>\n",
       "      <td>3.878461</td>\n",
       "      <td>6.267003e+02</td>\n",
       "    </tr>\n",
       "    <tr>\n",
       "      <th>3</th>\n",
       "      <td>ALA</td>\n",
       "      <td>2001</td>\n",
       "      <td>396.934826</td>\n",
       "      <td>7.589787e+04</td>\n",
       "    </tr>\n",
       "    <tr>\n",
       "      <th>4</th>\n",
       "      <td>ALB</td>\n",
       "      <td>2001</td>\n",
       "      <td>3729.021031</td>\n",
       "      <td>1.333223e+06</td>\n",
       "    </tr>\n",
       "  </tbody>\n",
       "</table>\n",
       "</div>"
      ],
      "text/plain": [
       "  CountryCode  Year  TreeCoverLoss_ha  GrossEmissions_Co2_all_gases_Mg\n",
       "0         AFG  2001         88.092712                     2.226891e+04\n",
       "1         AGO  2001     101220.621500                     3.687662e+07\n",
       "2         AIA  2001          3.878461                     6.267003e+02\n",
       "3         ALA  2001        396.934826                     7.589787e+04\n",
       "4         ALB  2001       3729.021031                     1.333223e+06"
      ]
     },
     "execution_count": 10,
     "metadata": {},
     "output_type": "execute_result"
    }
   ],
   "source": [
    "# goal get top 5 countries that have lost most total tree cover. \n",
    "tree_data.head()\n"
   ]
  },
  {
   "cell_type": "code",
   "execution_count": 40,
   "id": "4a367135",
   "metadata": {},
   "outputs": [
    {
     "data": {
      "text/html": [
       "<div>\n",
       "<style scoped>\n",
       "    .dataframe tbody tr th:only-of-type {\n",
       "        vertical-align: middle;\n",
       "    }\n",
       "\n",
       "    .dataframe tbody tr th {\n",
       "        vertical-align: top;\n",
       "    }\n",
       "\n",
       "    .dataframe thead th {\n",
       "        text-align: right;\n",
       "    }\n",
       "</style>\n",
       "<table border=\"1\" class=\"dataframe\">\n",
       "  <thead>\n",
       "    <tr style=\"text-align: right;\">\n",
       "      <th></th>\n",
       "      <th>CountryCode</th>\n",
       "      <th>TreeCoverLoss_ha</th>\n",
       "    </tr>\n",
       "  </thead>\n",
       "  <tbody>\n",
       "    <tr>\n",
       "      <th>0</th>\n",
       "      <td>ABW</td>\n",
       "      <td>2.555406e+00</td>\n",
       "    </tr>\n",
       "    <tr>\n",
       "      <th>1</th>\n",
       "      <td>AFG</td>\n",
       "      <td>1.854775e+03</td>\n",
       "    </tr>\n",
       "    <tr>\n",
       "      <th>2</th>\n",
       "      <td>AGO</td>\n",
       "      <td>3.113739e+06</td>\n",
       "    </tr>\n",
       "    <tr>\n",
       "      <th>3</th>\n",
       "      <td>AIA</td>\n",
       "      <td>4.646683e+01</td>\n",
       "    </tr>\n",
       "    <tr>\n",
       "      <th>4</th>\n",
       "      <td>ALA</td>\n",
       "      <td>1.308958e+04</td>\n",
       "    </tr>\n",
       "  </tbody>\n",
       "</table>\n",
       "</div>"
      ],
      "text/plain": [
       "  CountryCode  TreeCoverLoss_ha\n",
       "0         ABW      2.555406e+00\n",
       "1         AFG      1.854775e+03\n",
       "2         AGO      3.113739e+06\n",
       "3         AIA      4.646683e+01\n",
       "4         ALA      1.308958e+04"
      ]
     },
     "execution_count": 40,
     "metadata": {},
     "output_type": "execute_result"
    }
   ],
   "source": [
    "total_cover_country = tree_data.groupby(\"CountryCode\", as_index = False)[[\"TreeCoverLoss_ha\"]].sum()\n",
    "total_cover_country.head()"
   ]
  },
  {
   "cell_type": "code",
   "execution_count": 36,
   "id": "22ebef0b",
   "metadata": {},
   "outputs": [
    {
     "data": {
      "text/html": [
       "<div>\n",
       "<style scoped>\n",
       "    .dataframe tbody tr th:only-of-type {\n",
       "        vertical-align: middle;\n",
       "    }\n",
       "\n",
       "    .dataframe tbody tr th {\n",
       "        vertical-align: top;\n",
       "    }\n",
       "\n",
       "    .dataframe thead th {\n",
       "        text-align: right;\n",
       "    }\n",
       "</style>\n",
       "<table border=\"1\" class=\"dataframe\">\n",
       "  <thead>\n",
       "    <tr style=\"text-align: right;\">\n",
       "      <th></th>\n",
       "      <th>CountryCode</th>\n",
       "      <th>TreeCoverLoss_ha</th>\n",
       "    </tr>\n",
       "  </thead>\n",
       "  <tbody>\n",
       "    <tr>\n",
       "      <th>161</th>\n",
       "      <td>RUS</td>\n",
       "      <td>6.948921e+07</td>\n",
       "    </tr>\n",
       "    <tr>\n",
       "      <th>28</th>\n",
       "      <td>BRA</td>\n",
       "      <td>5.982569e+07</td>\n",
       "    </tr>\n",
       "    <tr>\n",
       "      <th>34</th>\n",
       "      <td>CAN</td>\n",
       "      <td>4.408659e+07</td>\n",
       "    </tr>\n",
       "    <tr>\n",
       "      <th>199</th>\n",
       "      <td>USA</td>\n",
       "      <td>4.223512e+07</td>\n",
       "    </tr>\n",
       "    <tr>\n",
       "      <th>87</th>\n",
       "      <td>IDN</td>\n",
       "      <td>2.772100e+07</td>\n",
       "    </tr>\n",
       "  </tbody>\n",
       "</table>\n",
       "</div>"
      ],
      "text/plain": [
       "    CountryCode  TreeCoverLoss_ha\n",
       "161         RUS      6.948921e+07\n",
       "28          BRA      5.982569e+07\n",
       "34          CAN      4.408659e+07\n",
       "199         USA      4.223512e+07\n",
       "87          IDN      2.772100e+07"
      ]
     },
     "execution_count": 36,
     "metadata": {},
     "output_type": "execute_result"
    }
   ],
   "source": [
    "total_cover_country.sort_values(\"TreeCoverLoss_ha\", ascending=False).head()"
   ]
  },
  {
   "cell_type": "code",
   "execution_count": 37,
   "id": "c0fb71ab",
   "metadata": {},
   "outputs": [
    {
     "data": {
      "text/html": [
       "<div>\n",
       "<style scoped>\n",
       "    .dataframe tbody tr th:only-of-type {\n",
       "        vertical-align: middle;\n",
       "    }\n",
       "\n",
       "    .dataframe tbody tr th {\n",
       "        vertical-align: top;\n",
       "    }\n",
       "\n",
       "    .dataframe thead th {\n",
       "        text-align: right;\n",
       "    }\n",
       "</style>\n",
       "<table border=\"1\" class=\"dataframe\">\n",
       "  <thead>\n",
       "    <tr style=\"text-align: right;\">\n",
       "      <th></th>\n",
       "      <th>CountryCode</th>\n",
       "      <th>TreeCoverLoss_ha</th>\n",
       "    </tr>\n",
       "  </thead>\n",
       "  <tbody>\n",
       "    <tr>\n",
       "      <th>161</th>\n",
       "      <td>RUS</td>\n",
       "      <td>6.948921e+07</td>\n",
       "    </tr>\n",
       "    <tr>\n",
       "      <th>28</th>\n",
       "      <td>BRA</td>\n",
       "      <td>5.982569e+07</td>\n",
       "    </tr>\n",
       "    <tr>\n",
       "      <th>34</th>\n",
       "      <td>CAN</td>\n",
       "      <td>4.408659e+07</td>\n",
       "    </tr>\n",
       "    <tr>\n",
       "      <th>199</th>\n",
       "      <td>USA</td>\n",
       "      <td>4.223512e+07</td>\n",
       "    </tr>\n",
       "    <tr>\n",
       "      <th>87</th>\n",
       "      <td>IDN</td>\n",
       "      <td>2.772100e+07</td>\n",
       "    </tr>\n",
       "  </tbody>\n",
       "</table>\n",
       "</div>"
      ],
      "text/plain": [
       "    CountryCode  TreeCoverLoss_ha\n",
       "161         RUS      6.948921e+07\n",
       "28          BRA      5.982569e+07\n",
       "34          CAN      4.408659e+07\n",
       "199         USA      4.223512e+07\n",
       "87          IDN      2.772100e+07"
      ]
     },
     "execution_count": 37,
     "metadata": {},
     "output_type": "execute_result"
    }
   ],
   "source": [
    "top_5 = total_cover_country.sort_values(\"TreeCoverLoss_ha\", ascending=False)[0:5]\n",
    "top_5.head()"
   ]
  },
  {
   "cell_type": "code",
   "execution_count": 42,
   "id": "8a87e0f3",
   "metadata": {},
   "outputs": [
    {
     "data": {
      "text/html": [
       "<div>\n",
       "<style scoped>\n",
       "    .dataframe tbody tr th:only-of-type {\n",
       "        vertical-align: middle;\n",
       "    }\n",
       "\n",
       "    .dataframe tbody tr th {\n",
       "        vertical-align: top;\n",
       "    }\n",
       "\n",
       "    .dataframe thead th {\n",
       "        text-align: right;\n",
       "    }\n",
       "</style>\n",
       "<table border=\"1\" class=\"dataframe\">\n",
       "  <thead>\n",
       "    <tr style=\"text-align: right;\">\n",
       "      <th></th>\n",
       "      <th>CountryCode</th>\n",
       "      <th>TreeCoverLoss_ha</th>\n",
       "      <th>loss_mil_ha</th>\n",
       "    </tr>\n",
       "  </thead>\n",
       "  <tbody>\n",
       "    <tr>\n",
       "      <th>161</th>\n",
       "      <td>RUS</td>\n",
       "      <td>6.948921e+07</td>\n",
       "      <td>69.489208</td>\n",
       "    </tr>\n",
       "    <tr>\n",
       "      <th>28</th>\n",
       "      <td>BRA</td>\n",
       "      <td>5.982569e+07</td>\n",
       "      <td>59.825691</td>\n",
       "    </tr>\n",
       "    <tr>\n",
       "      <th>34</th>\n",
       "      <td>CAN</td>\n",
       "      <td>4.408659e+07</td>\n",
       "      <td>44.086591</td>\n",
       "    </tr>\n",
       "    <tr>\n",
       "      <th>199</th>\n",
       "      <td>USA</td>\n",
       "      <td>4.223512e+07</td>\n",
       "      <td>42.235117</td>\n",
       "    </tr>\n",
       "    <tr>\n",
       "      <th>87</th>\n",
       "      <td>IDN</td>\n",
       "      <td>2.772100e+07</td>\n",
       "      <td>27.720995</td>\n",
       "    </tr>\n",
       "  </tbody>\n",
       "</table>\n",
       "</div>"
      ],
      "text/plain": [
       "    CountryCode  TreeCoverLoss_ha  loss_mil_ha\n",
       "161         RUS      6.948921e+07    69.489208\n",
       "28          BRA      5.982569e+07    59.825691\n",
       "34          CAN      4.408659e+07    44.086591\n",
       "199         USA      4.223512e+07    42.235117\n",
       "87          IDN      2.772100e+07    27.720995"
      ]
     },
     "execution_count": 42,
     "metadata": {},
     "output_type": "execute_result"
    }
   ],
   "source": [
    "top_5[\"loss_mil_ha\"] = top_5.TreeCoverLoss_ha/1000000\n",
    "top_5.head()"
   ]
  },
  {
   "cell_type": "code",
   "execution_count": 43,
   "id": "f50335fb",
   "metadata": {},
   "outputs": [
    {
     "data": {
      "text/plain": [
       "<AxesSubplot:xlabel='CountryCode', ylabel='loss_mil_ha'>"
      ]
     },
     "execution_count": 43,
     "metadata": {},
     "output_type": "execute_result"
    },
    {
     "data": {
      "image/png": "[encoded data removed]",
      "text/plain": [
       "<Figure size 432x288 with 1 Axes>"
      ]
     },
     "metadata": {
      "needs_background": "light"
     },
     "output_type": "display_data"
    }
   ],
   "source": [
    "sns.barplot(x = \"CountryCode\", y=\"loss_mil_ha\", data = top_5 )"
   ]
  },
  {
   "cell_type": "code",
   "execution_count": 47,
   "id": "0f20d07f",
   "metadata": {},
   "outputs": [
    {
     "data": {
      "image/png": "[encoded data removed]",
      "text/plain": [
       "<Figure size 432x288 with 1 Axes>"
      ]
     },
     "metadata": {
      "needs_background": "light"
     },
     "output_type": "display_data"
    }
   ],
   "source": [
    "my_colors = sns.color_palette([\"black\", \"black\", \"black\", \"red\", \"black\"])\n",
    "bootiful = sns.barplot(x = \"CountryCode\", y=\"loss_mil_ha\", data = top_5, palette = my_colors)\n",
    "bootiful.set_ylabel(\"Tree Loss Millions Hectares\", fontsize = 15)\n",
    "sns.despine()\n",
    "\n"
   ]
  },
  {
   "cell_type": "code",
   "execution_count": null,
   "id": "18c07617",
   "metadata": {},
   "outputs": [],
   "source": []
  }
 ],
 "metadata": {
  "hide_input": false,
  "kernelspec": {
   "display_name": "Python 3 (ipykernel)",
   "language": "python",
   "name": "python3"
  },
  "language_info": {
   "codemirror_mode": {
    "name": "ipython",
    "version": 3
   },
   "file_extension": ".py",
   "mimetype": "text/x-python",
   "name": "python",
   "nbconvert_exporter": "python",
   "pygments_lexer": "ipython3",
   "version": "3.9.12"
  }
 },
 "nbformat": 4,
 "nbformat_minor": 5
}
